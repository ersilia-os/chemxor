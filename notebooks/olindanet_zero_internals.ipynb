{
 "cells": [
  {
   "cell_type": "code",
   "execution_count": 1,
   "metadata": {},
   "outputs": [
    {
     "name": "stderr",
     "output_type": "stream",
     "text": [
      "Global seed set to 42\n"
     ]
    }
   ],
   "source": [
    "from pytorch_lightning import seed_everything\n",
    "seed_everything(42, workers=True)\n",
    "\n",
    "# supress warnings\n",
    "import warnings\n",
    "from pytorch_lightning.utilities.warnings import PossibleUserWarning\n",
    "warnings.filterwarnings(\"ignore\", category=PossibleUserWarning)\n",
    "import torch as t"
   ]
  },
  {
   "cell_type": "code",
   "execution_count": 2,
   "metadata": {},
   "outputs": [],
   "source": [
    "from chemxor.data import OlindaCDataModule, OlindaRDataModule\n",
    "from chemxor.model import FHEOlindaNet, FHEOlindaNetOne, FHEOlindaNetZero, OlindaNet, OlindaNetOne, OlindaNetZero\n",
    "from chemxor.utils import prepare_fhe_input, evaluate_fhe_model"
   ]
  },
  {
   "cell_type": "code",
   "execution_count": 3,
   "metadata": {},
   "outputs": [],
   "source": [
    "model = OlindaNetZero(output=1)\n",
    "fhe_model = FHEOlindaNetZero(model=model)"
   ]
  },
  {
   "cell_type": "code",
   "execution_count": 4,
   "metadata": {},
   "outputs": [],
   "source": [
    "dm = OlindaRDataModule(model=fhe_model)\n",
    "dm.setup(\"train\")\n",
    "train_loader = dm.train_dataloader()\n",
    "enc_train_loader = dm.enc_train_dataloader(fhe_model.enc_context)"
   ]
  },
  {
   "cell_type": "code",
   "execution_count": 5,
   "metadata": {},
   "outputs": [],
   "source": [
    "sample = next(iter(train_loader))\n",
    "enc_sample = next(iter(enc_train_loader))"
   ]
  },
  {
   "cell_type": "code",
   "execution_count": 6,
   "metadata": {},
   "outputs": [
    {
     "data": {
      "text/plain": [
       "[<tenseal.tensors.ckksvector.CKKSVector at 0x7effdf5dbf10>,\n",
       " <tenseal.tensors.ckkstensor.CKKSTensor at 0x7effdf5dbbe0>,\n",
       " 100]"
      ]
     },
     "execution_count": 6,
     "metadata": {},
     "output_type": "execute_result"
    }
   ],
   "source": [
    "enc_sample"
   ]
  },
  {
   "cell_type": "code",
   "execution_count": 7,
   "metadata": {},
   "outputs": [
    {
     "data": {
      "text/plain": [
       "1600"
      ]
     },
     "execution_count": 7,
     "metadata": {},
     "output_type": "execute_result"
    }
   ],
   "source": [
    "len(enc_sample[0].decrypt())"
   ]
  },
  {
   "cell_type": "code",
   "execution_count": 8,
   "metadata": {},
   "outputs": [
    {
     "data": {
      "text/plain": [
       "[3200]"
      ]
     },
     "execution_count": 8,
     "metadata": {},
     "output_type": "execute_result"
    }
   ],
   "source": [
    "enc_out_0 = fhe_model(enc_sample[0], 0)\n",
    "enc_out_0.shape"
   ]
  },
  {
   "cell_type": "code",
   "execution_count": 9,
   "metadata": {},
   "outputs": [],
   "source": [
    "input_1 = prepare_fhe_input(enc_out_0.decrypt(), fhe_model.pre_process[0], fhe_model.enc_context)"
   ]
  },
  {
   "cell_type": "code",
   "execution_count": 10,
   "metadata": {},
   "outputs": [
    {
     "data": {
      "text/plain": [
       "[256]"
      ]
     },
     "execution_count": 10,
     "metadata": {},
     "output_type": "execute_result"
    }
   ],
   "source": [
    "enc_out_1 = fhe_model(input_1, 1)\n",
    "enc_out_1.shape"
   ]
  },
  {
   "cell_type": "code",
   "execution_count": 11,
   "metadata": {},
   "outputs": [],
   "source": [
    "input_2 = prepare_fhe_input(enc_out_1.decrypt(), fhe_model.pre_process[1], fhe_model.enc_context)"
   ]
  },
  {
   "cell_type": "code",
   "execution_count": 12,
   "metadata": {},
   "outputs": [
    {
     "data": {
      "text/plain": [
       "[1]"
      ]
     },
     "execution_count": 12,
     "metadata": {},
     "output_type": "execute_result"
    }
   ],
   "source": [
    "enc_out_2 = fhe_model(input_2, 2)\n",
    "enc_out_2.shape"
   ]
  },
  {
   "cell_type": "code",
   "execution_count": 13,
   "metadata": {},
   "outputs": [
    {
     "data": {
      "text/plain": [
       "[-0.9786247181886254]"
      ]
     },
     "execution_count": 13,
     "metadata": {},
     "output_type": "execute_result"
    }
   ],
   "source": [
    "enc_out_2.decrypt()"
   ]
  },
  {
   "cell_type": "code",
   "execution_count": null,
   "metadata": {},
   "outputs": [],
   "source": [
    "# Evaluate fhe model with a single function\n",
    "enc_out = evaluate_fhe_model(fhe_model, enc_sample[0])\n",
    "enc_out.decrypt()"
   ]
  },
  {
   "cell_type": "markdown",
   "metadata": {},
   "source": [
    "# Normal model evaluation"
   ]
  },
  {
   "cell_type": "code",
   "execution_count": 14,
   "metadata": {},
   "outputs": [
    {
     "data": {
      "text/plain": [
       "torch.Size([32, 1])"
      ]
     },
     "execution_count": 14,
     "metadata": {},
     "output_type": "execute_result"
    }
   ],
   "source": [
    "out_1 = model(sample[0])\n",
    "out_1.shape"
   ]
  },
  {
   "cell_type": "code",
   "execution_count": 15,
   "metadata": {},
   "outputs": [
    {
     "data": {
      "text/plain": [
       "tensor([[-0.9755],\n",
       "        [-0.9709],\n",
       "        [-0.9707],\n",
       "        [-0.9727],\n",
       "        [-0.9759],\n",
       "        [-0.9660],\n",
       "        [-0.9790],\n",
       "        [-0.9772],\n",
       "        [-0.9723],\n",
       "        [-0.9763],\n",
       "        [-0.9691],\n",
       "        [-0.9792],\n",
       "        [-0.9784],\n",
       "        [-0.9745],\n",
       "        [-0.9795],\n",
       "        [-0.9713],\n",
       "        [-0.9779],\n",
       "        [-0.9722],\n",
       "        [-0.9724],\n",
       "        [-0.9781],\n",
       "        [-0.9720],\n",
       "        [-0.9714],\n",
       "        [-0.9774],\n",
       "        [-0.9733],\n",
       "        [-0.9744],\n",
       "        [-0.9721],\n",
       "        [-0.9694],\n",
       "        [-0.9771],\n",
       "        [-0.9832],\n",
       "        [-0.9703],\n",
       "        [-0.9754],\n",
       "        [-0.9703]], grad_fn=<AddmmBackward0>)"
      ]
     },
     "execution_count": 15,
     "metadata": {},
     "output_type": "execute_result"
    }
   ],
   "source": [
    "out_1"
   ]
  }
 ],
 "metadata": {
  "interpreter": {
   "hash": "cf4c64e2a82d3083362fa5c946a32f02838fa25798e86c1e20e6996cafd7dbb7"
  },
  "kernelspec": {
   "display_name": "Python 3.8.13 ('chemxor': conda)",
   "language": "python",
   "name": "python3"
  },
  "language_info": {
   "codemirror_mode": {
    "name": "ipython",
    "version": 3
   },
   "file_extension": ".py",
   "mimetype": "text/x-python",
   "name": "python",
   "nbconvert_exporter": "python",
   "pygments_lexer": "ipython3",
   "version": "3.8.13"
  },
  "orig_nbformat": 4
 },
 "nbformat": 4,
 "nbformat_minor": 2
}
