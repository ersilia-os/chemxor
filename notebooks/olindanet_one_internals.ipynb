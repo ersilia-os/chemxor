{
 "cells": [
  {
   "cell_type": "code",
   "execution_count": 1,
   "metadata": {},
   "outputs": [
    {
     "name": "stderr",
     "output_type": "stream",
     "text": [
      "Global seed set to 42\n"
     ]
    }
   ],
   "source": [
    "from pytorch_lightning import seed_everything\n",
    "seed_everything(42, workers=True)\n",
    "\n",
    "# supress warnings\n",
    "import warnings\n",
    "from pytorch_lightning.utilities.warnings import PossibleUserWarning\n",
    "warnings.filterwarnings(\"ignore\", category=PossibleUserWarning)\n",
    "import torch as t"
   ]
  },
  {
   "cell_type": "code",
   "execution_count": 2,
   "metadata": {},
   "outputs": [],
   "source": [
    "from chemxor.data import OlindaCDataModule, OlindaRDataModule\n",
    "from chemxor.model import FHEOlindaNet, FHEOlindaNetOne, FHEOlindaNetZero, OlindaNet, OlindaNetOne, OlindaNetZero\n",
    "from chemxor.utils import prepare_fhe_input, evaluate_fhe_model"
   ]
  },
  {
   "cell_type": "code",
   "execution_count": 3,
   "metadata": {},
   "outputs": [],
   "source": [
    "model = OlindaNetOne(output=1)\n",
    "fhe_model = FHEOlindaNetOne(model=model)"
   ]
  },
  {
   "cell_type": "code",
   "execution_count": 4,
   "metadata": {},
   "outputs": [],
   "source": [
    "dm = OlindaRDataModule(model=fhe_model)\n",
    "dm.setup(\"train\")\n",
    "train_loader = dm.train_dataloader()\n",
    "enc_train_loader = dm.enc_train_dataloader(fhe_model.enc_context)"
   ]
  },
  {
   "cell_type": "code",
   "execution_count": 5,
   "metadata": {},
   "outputs": [],
   "source": [
    "sample = next(iter(train_loader))\n",
    "enc_sample = next(iter(enc_train_loader))"
   ]
  },
  {
   "cell_type": "code",
   "execution_count": 6,
   "metadata": {},
   "outputs": [
    {
     "data": {
      "text/plain": [
       "[<tenseal.tensors.ckksvector.CKKSVector at 0x7fd746c503d0>,\n",
       " <tenseal.tensors.ckkstensor.CKKSTensor at 0x7fd746c5c370>,\n",
       " 100]"
      ]
     },
     "execution_count": 6,
     "metadata": {},
     "output_type": "execute_result"
    }
   ],
   "source": [
    "enc_sample"
   ]
  },
  {
   "cell_type": "code",
   "execution_count": 7,
   "metadata": {},
   "outputs": [
    {
     "data": {
      "text/plain": [
       "1600"
      ]
     },
     "execution_count": 7,
     "metadata": {},
     "output_type": "execute_result"
    }
   ],
   "source": [
    "len(enc_sample[0].decrypt())"
   ]
  },
  {
   "cell_type": "code",
   "execution_count": 8,
   "metadata": {},
   "outputs": [
    {
     "data": {
      "text/plain": [
       "[3200]"
      ]
     },
     "execution_count": 8,
     "metadata": {},
     "output_type": "execute_result"
    }
   ],
   "source": [
    "enc_out_0 = fhe_model(enc_sample[0], 0)\n",
    "enc_out_0.shape"
   ]
  },
  {
   "cell_type": "code",
   "execution_count": 9,
   "metadata": {},
   "outputs": [],
   "source": [
    "input_1 = prepare_fhe_input(enc_out_0.decrypt(), fhe_model.pre_process[0], fhe_model.enc_context)"
   ]
  },
  {
   "cell_type": "code",
   "execution_count": 10,
   "metadata": {},
   "outputs": [
    {
     "data": {
      "text/plain": [
       "[2048]"
      ]
     },
     "execution_count": 10,
     "metadata": {},
     "output_type": "execute_result"
    }
   ],
   "source": [
    "enc_out_1 = fhe_model(input_1, 1)\n",
    "enc_out_1.shape"
   ]
  },
  {
   "cell_type": "code",
   "execution_count": 11,
   "metadata": {},
   "outputs": [],
   "source": [
    "input_2 = prepare_fhe_input(enc_out_1.decrypt(), fhe_model.pre_process[1], fhe_model.enc_context)"
   ]
  },
  {
   "cell_type": "code",
   "execution_count": 12,
   "metadata": {},
   "outputs": [
    {
     "data": {
      "text/plain": [
       "[2304]"
      ]
     },
     "execution_count": 12,
     "metadata": {},
     "output_type": "execute_result"
    }
   ],
   "source": [
    "enc_out_2 = fhe_model(input_2, 2)\n",
    "enc_out_2.shape"
   ]
  },
  {
   "cell_type": "code",
   "execution_count": 13,
   "metadata": {},
   "outputs": [],
   "source": [
    "input_3 = prepare_fhe_input(enc_out_2.decrypt(), fhe_model.pre_process[2], fhe_model.enc_context)"
   ]
  },
  {
   "cell_type": "code",
   "execution_count": 14,
   "metadata": {},
   "outputs": [
    {
     "data": {
      "text/plain": [
       "[1024]"
      ]
     },
     "execution_count": 14,
     "metadata": {},
     "output_type": "execute_result"
    }
   ],
   "source": [
    "enc_out_3 = fhe_model(input_3, 3)\n",
    "enc_out_3.shape"
   ]
  },
  {
   "cell_type": "code",
   "execution_count": 15,
   "metadata": {},
   "outputs": [],
   "source": [
    "input_4 = prepare_fhe_input(enc_out_3.decrypt(), fhe_model.pre_process[3], fhe_model.enc_context)"
   ]
  },
  {
   "cell_type": "code",
   "execution_count": 16,
   "metadata": {},
   "outputs": [
    {
     "data": {
      "text/plain": [
       "[512]"
      ]
     },
     "execution_count": 16,
     "metadata": {},
     "output_type": "execute_result"
    }
   ],
   "source": [
    "enc_out_4 = fhe_model(input_4, 4)\n",
    "enc_out_4.shape"
   ]
  },
  {
   "cell_type": "code",
   "execution_count": 17,
   "metadata": {},
   "outputs": [],
   "source": [
    "input_5 = prepare_fhe_input(enc_out_4.decrypt(), fhe_model.pre_process[4], fhe_model.enc_context)"
   ]
  },
  {
   "cell_type": "code",
   "execution_count": 18,
   "metadata": {},
   "outputs": [
    {
     "data": {
      "text/plain": [
       "[1]"
      ]
     },
     "execution_count": 18,
     "metadata": {},
     "output_type": "execute_result"
    }
   ],
   "source": [
    "enc_out_5 = fhe_model(input_5, 5)\n",
    "enc_out_5.shape"
   ]
  },
  {
   "cell_type": "code",
   "execution_count": 19,
   "metadata": {},
   "outputs": [
    {
     "data": {
      "text/plain": [
       "[-1.1388611144680163]"
      ]
     },
     "execution_count": 19,
     "metadata": {},
     "output_type": "execute_result"
    }
   ],
   "source": [
    "enc_out_5.decrypt()"
   ]
  },
  {
   "cell_type": "code",
   "execution_count": null,
   "metadata": {},
   "outputs": [],
   "source": [
    "# Evaluate fhe model with a single function\n",
    "enc_out = evaluate_fhe_model(fhe_model, enc_sample[0])\n",
    "enc_out.decrypt()"
   ]
  },
  {
   "cell_type": "markdown",
   "metadata": {},
   "source": [
    "# Normal model evaluation"
   ]
  },
  {
   "cell_type": "code",
   "execution_count": 21,
   "metadata": {},
   "outputs": [
    {
     "data": {
      "text/plain": [
       "torch.Size([32, 1])"
      ]
     },
     "execution_count": 21,
     "metadata": {},
     "output_type": "execute_result"
    }
   ],
   "source": [
    "out_1 = model(sample[0])\n",
    "out_1.shape"
   ]
  },
  {
   "cell_type": "code",
   "execution_count": 22,
   "metadata": {},
   "outputs": [
    {
     "data": {
      "text/plain": [
       "tensor([[-1.1363],\n",
       "        [-1.1362],\n",
       "        [-1.1363],\n",
       "        [-1.1363],\n",
       "        [-1.1364],\n",
       "        [-1.1363],\n",
       "        [-1.1363],\n",
       "        [-1.1363],\n",
       "        [-1.1363],\n",
       "        [-1.1364],\n",
       "        [-1.1364],\n",
       "        [-1.1363],\n",
       "        [-1.1364],\n",
       "        [-1.1364],\n",
       "        [-1.1364],\n",
       "        [-1.1363],\n",
       "        [-1.1363],\n",
       "        [-1.1365],\n",
       "        [-1.1362],\n",
       "        [-1.1364],\n",
       "        [-1.1362],\n",
       "        [-1.1363],\n",
       "        [-1.1364],\n",
       "        [-1.1362],\n",
       "        [-1.1363],\n",
       "        [-1.1363],\n",
       "        [-1.1364],\n",
       "        [-1.1363],\n",
       "        [-1.1363],\n",
       "        [-1.1362],\n",
       "        [-1.1363],\n",
       "        [-1.1363]], grad_fn=<AddmmBackward0>)"
      ]
     },
     "execution_count": 22,
     "metadata": {},
     "output_type": "execute_result"
    }
   ],
   "source": [
    "out_1"
   ]
  },
  {
   "cell_type": "code",
   "execution_count": null,
   "metadata": {},
   "outputs": [],
   "source": []
  }
 ],
 "metadata": {
  "interpreter": {
   "hash": "cf4c64e2a82d3083362fa5c946a32f02838fa25798e86c1e20e6996cafd7dbb7"
  },
  "kernelspec": {
   "display_name": "Python 3.8.13 ('chemxor': conda)",
   "language": "python",
   "name": "python3"
  },
  "language_info": {
   "codemirror_mode": {
    "name": "ipython",
    "version": 3
   },
   "file_extension": ".py",
   "mimetype": "text/x-python",
   "name": "python",
   "nbconvert_exporter": "python",
   "pygments_lexer": "ipython3",
   "version": "3.8.13"
  },
  "orig_nbformat": 4
 },
 "nbformat": 4,
 "nbformat_minor": 2
}
