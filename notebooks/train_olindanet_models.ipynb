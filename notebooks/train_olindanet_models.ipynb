{
 "cells": [
  {
   "cell_type": "markdown",
   "metadata": {},
   "source": [
    "# Training OlindaNet Models"
   ]
  },
  {
   "cell_type": "code",
   "execution_count": 1,
   "metadata": {},
   "outputs": [
    {
     "name": "stderr",
     "output_type": "stream",
     "text": [
      "Global seed set to 42\n"
     ]
    }
   ],
   "source": [
    "import pytorch_lightning as pl\n",
    "from pytorch_lightning import seed_everything\n",
    "seed_everything(42, workers=True)\n",
    "\n",
    "# supress warnings\n",
    "import warnings\n",
    "from pytorch_lightning.utilities.warnings import PossibleUserWarning\n",
    "warnings.filterwarnings(\"ignore\", category=PossibleUserWarning)\n",
    "import torch as t"
   ]
  },
  {
   "cell_type": "code",
   "execution_count": 2,
   "metadata": {},
   "outputs": [],
   "source": [
    "from chemxor.data import OlindaCDataModule, OlindaRDataModule\n",
    "from chemxor.model import FHEOlindaNet, FHEOlindaNetOne, FHEOlindaNetZero, OlindaNet, OlindaNetOne, OlindaNetZero\n",
    "from chemxor.utils import prepare_fhe_input, evaluate_fhe_model, get_package_root_path"
   ]
  },
  {
   "cell_type": "markdown",
   "metadata": {},
   "source": [
    "## Intialize Model"
   ]
  },
  {
   "cell_type": "markdown",
   "metadata": {},
   "source": [
    "All the models accept an `output` parameter. Here the model is initialized with `output=1` for regression task"
   ]
  },
  {
   "cell_type": "code",
   "execution_count": 3,
   "metadata": {},
   "outputs": [],
   "source": [
    "model = OlindaNetZero(output=1)"
   ]
  },
  {
   "cell_type": "markdown",
   "metadata": {},
   "source": [
    "## Prepare Dataset"
   ]
  },
  {
   "cell_type": "markdown",
   "metadata": {},
   "source": [
    "ChemXor provides generic `datamodules` for regression and classification tasks. The `datamodules` accepts a `csv_path` parameter to load custom csv datasets. The `datamodules` expect custom csv datasets to have two columns (target, SMILES). A demo csv dataset is provided by the ChemXor library for testing."
   ]
  },
  {
   "cell_type": "code",
   "execution_count": 4,
   "metadata": {},
   "outputs": [],
   "source": [
    "dataset_path = get_package_root_path()/\"ersilia_output_slim.csv\"\n",
    "dm = OlindaRDataModule(csv_path=dataset_path)\n",
    "dm.setup(\"train\")\n",
    "train_loader = dm.train_dataloader()"
   ]
  },
  {
   "cell_type": "markdown",
   "metadata": {},
   "source": [
    "The dataloaders are usual Pytorch's dataloaders. Iterate dataloaders to look at training samples."
   ]
  },
  {
   "cell_type": "code",
   "execution_count": 5,
   "metadata": {},
   "outputs": [],
   "source": [
    "sample = next(iter(train_loader))"
   ]
  },
  {
   "cell_type": "markdown",
   "metadata": {},
   "source": [
    "## Training"
   ]
  },
  {
   "cell_type": "markdown",
   "metadata": {},
   "source": [
    "OlindaNet models are compatible with Pytorch Lightning. Use of Pytorch Lightning trainer is recommended for training models."
   ]
  },
  {
   "cell_type": "code",
   "execution_count": null,
   "metadata": {},
   "outputs": [],
   "source": [
    "# Create a callback to checkpoint models\n",
    "checkpoint_callback = pl.callbacks.ModelCheckpoint(\n",
    "        dirpath=\"olindanet_zero\",\n",
    "        save_top_k=3,\n",
    "        monitor=\"VAL_Loss\",\n",
    "    )"
   ]
  },
  {
   "cell_type": "code",
   "execution_count": null,
   "metadata": {},
   "outputs": [],
   "source": [
    "# Initialize trainer\n",
    "trainer = pl.Trainer(\n",
    "    callbacks=[checkpoint_callback],\n",
    "    accelerator=\"auto\",\n",
    "    gradient_clip_val=0.5, # Use gradient clipping to control exploding gradients\n",
    "    val_check_interval=0.10,\n",
    ")"
   ]
  },
  {
   "cell_type": "code",
   "execution_count": null,
   "metadata": {},
   "outputs": [],
   "source": [
    "# pass the model and datamodule to the trainer\n",
    "trainer.fit(model=model, datamodule=dm)"
   ]
  },
  {
   "cell_type": "markdown",
   "metadata": {},
   "source": [
    "The trainer logs metrics compatible with TensorBoard"
   ]
  }
 ],
 "metadata": {
  "kernelspec": {
   "display_name": "Python 3.8.13 ('chemxor')",
   "language": "python",
   "name": "python3"
  },
  "language_info": {
   "codemirror_mode": {
    "name": "ipython",
    "version": 3
   },
   "file_extension": ".py",
   "mimetype": "text/x-python",
   "name": "python",
   "nbconvert_exporter": "python",
   "pygments_lexer": "ipython3",
   "version": "3.8.13"
  },
  "orig_nbformat": 4,
  "vscode": {
   "interpreter": {
    "hash": "5260357500e3da581a210f1c065c11c3d768ef3752f1f8d8f97014c8ec9064fe"
   }
  }
 },
 "nbformat": 4,
 "nbformat_minor": 2
}
