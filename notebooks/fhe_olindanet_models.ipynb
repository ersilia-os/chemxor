{
 "cells": [
  {
   "cell_type": "markdown",
   "metadata": {},
   "source": [
    "# FHE OlindaNet Models"
   ]
  },
  {
   "cell_type": "code",
   "execution_count": 1,
   "metadata": {},
   "outputs": [
    {
     "name": "stderr",
     "output_type": "stream",
     "text": [
      "Global seed set to 42\n"
     ]
    }
   ],
   "source": [
    "from pytorch_lightning import seed_everything\n",
    "seed_everything(42, workers=True)\n",
    "\n",
    "# supress warnings\n",
    "import warnings\n",
    "from pytorch_lightning.utilities.warnings import PossibleUserWarning\n",
    "warnings.filterwarnings(\"ignore\", category=PossibleUserWarning)\n",
    "import torch as t"
   ]
  },
  {
   "cell_type": "code",
   "execution_count": 2,
   "metadata": {},
   "outputs": [],
   "source": [
    "from chemxor.data import OlindaCDataModule, OlindaRDataModule\n",
    "from chemxor.model import FHEOlindaNet, FHEOlindaNetOne, FHEOlindaNetZero, OlindaNet, OlindaNetOne, OlindaNetZero\n",
    "from chemxor.utils import prepare_fhe_input, evaluate_fhe_model"
   ]
  },
  {
   "cell_type": "markdown",
   "metadata": {},
   "source": [
    "OlindaNet models can be wrapped with their respective wrappers to compute FHE inputs"
   ]
  },
  {
   "cell_type": "code",
   "execution_count": 3,
   "metadata": {},
   "outputs": [],
   "source": [
    "# Intialize normal models\n",
    "# These models can also load state from a chekpoint\n",
    "model = OlindaNetZero(output=1)\n",
    "\n",
    "# Models are wrapped with their respective wrappers\n",
    "fhe_model = FHEOlindaNetZero(model=model)"
   ]
  },
  {
   "cell_type": "markdown",
   "metadata": {},
   "source": [
    "Chemxor's DataModules can generate encrypted inputs for testing models"
   ]
  },
  {
   "cell_type": "code",
   "execution_count": 4,
   "metadata": {},
   "outputs": [],
   "source": [
    "# Initialize datamodule and pass the FHE model\n",
    "dm = OlindaRDataModule(model=fhe_model)\n",
    "dm.setup(\"train\")\n",
    "\n",
    "# Create the encrypted dataloader\n",
    "enc_train_loader = dm.enc_train_dataloader(fhe_model.enc_context)"
   ]
  },
  {
   "cell_type": "code",
   "execution_count": 5,
   "metadata": {},
   "outputs": [],
   "source": [
    "# Encrypted samples can be generated with the dataloader\n",
    "enc_sample = next(iter(enc_train_loader))"
   ]
  },
  {
   "cell_type": "code",
   "execution_count": 6,
   "metadata": {},
   "outputs": [
    {
     "data": {
      "text/plain": [
       "[<tenseal.tensors.ckksvector.CKKSVector at 0x7effdf5dbf10>,\n",
       " <tenseal.tensors.ckkstensor.CKKSTensor at 0x7effdf5dbbe0>,\n",
       " 100]"
      ]
     },
     "execution_count": 6,
     "metadata": {},
     "output_type": "execute_result"
    }
   ],
   "source": [
    "# Encrypted sample contains the input, target and a parameter used for image to column convolutions\n",
    "# the parameter can be safely ignored\n",
    "enc_sample"
   ]
  },
  {
   "cell_type": "code",
   "execution_count": null,
   "metadata": {},
   "outputs": [],
   "source": [
    "# Evaluate fhe model with the utility function\n",
    "enc_out = evaluate_fhe_model(fhe_model, enc_sample[0])\n",
    "enc_out.decrypt()"
   ]
  },
  {
   "cell_type": "markdown",
   "metadata": {},
   "source": [
    "## Serving FHE models"
   ]
  },
  {
   "cell_type": "markdown",
   "metadata": {},
   "source": [
    "FHE models are partitioned to overcome some of the limitations of current FHE schemes. So, to evalaute a single FHE input, multiple round trip happens between the server and the client. Hence the name `PartitionNetServer` and `PartitionNetClient`."
   ]
  },
  {
   "cell_type": "code",
   "execution_count": null,
   "metadata": {},
   "outputs": [],
   "source": [
    "from chemxor.service import PartitionNetServer, PartitionNetClient"
   ]
  },
  {
   "cell_type": "code",
   "execution_count": null,
   "metadata": {},
   "outputs": [],
   "source": [
    "model_server = PartitionNetServer(part_net=fhe_model)\n",
    "\n",
    "# Start the server\n",
    "# model_server.run()\n",
    "\n",
    "# Execute this cell in a separate script to start the server at http://localhost:5000"
   ]
  },
  {
   "cell_type": "markdown",
   "metadata": {},
   "source": [
    "During the initialization, client call the model server to retrieve encryption and model parameters.\n",
    "\n",
    "At this stage the client generate keys for encryption."
   ]
  },
  {
   "cell_type": "code",
   "execution_count": null,
   "metadata": {},
   "outputs": [],
   "source": [
    "model_client = PartitionNetClient(url=\"http://localhost:5000/v1/fhe\")"
   ]
  },
  {
   "cell_type": "markdown",
   "metadata": {},
   "source": [
    "Query the model with a convenient interface. It will take care of encrypting the input, the round trips between server and client, and preparing the input for each step."
   ]
  },
  {
   "cell_type": "code",
   "execution_count": null,
   "metadata": {},
   "outputs": [],
   "source": [
    "model_client.query(x=\"COC(=O)C1=CC=CC2=C1C(=O)C1=CC([N+](=O)[O-])=CC=C21\")"
   ]
  }
 ],
 "metadata": {
  "kernelspec": {
   "display_name": "Python 3.8.13 ('chemxor')",
   "language": "python",
   "name": "python3"
  },
  "language_info": {
   "codemirror_mode": {
    "name": "ipython",
    "version": 3
   },
   "file_extension": ".py",
   "mimetype": "text/x-python",
   "name": "python",
   "nbconvert_exporter": "python",
   "pygments_lexer": "ipython3",
   "version": "3.8.13"
  },
  "orig_nbformat": 4,
  "vscode": {
   "interpreter": {
    "hash": "5260357500e3da581a210f1c065c11c3d768ef3752f1f8d8f97014c8ec9064fe"
   }
  }
 },
 "nbformat": 4,
 "nbformat_minor": 2
}
